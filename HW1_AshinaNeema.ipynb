{
 "cells": [
  {
   "cell_type": "markdown",
   "id": "58c1b375",
   "metadata": {},
   "source": [
    "# HW1 - Classification models in sklearn"
   ]
  },
  {
   "cell_type": "markdown",
   "id": "b0270045",
   "metadata": {},
   "source": [
    "# The Problem\n",
    "The goal is to build classifier models to predict price_gt_1M using the the other variables. "
   ]
  },
  {
   "cell_type": "markdown",
   "id": "3a2068d9",
   "metadata": {},
   "source": [
    "# Task 1 - Folder structure\n",
    "Start by creating a new project folder structure with the cookiecutter-datascience-simple template that I covered in Module 1. Put the data files into an appropriate folder and put this notebook in the main project folder. Any additional notebooks and/or Python files you end up creating should go in the main project folder."
   ]
  },
  {
   "cell_type": "code",
   "execution_count": 1,
   "id": "1fb222b5",
   "metadata": {},
   "outputs": [
    {
     "name": "stdout",
     "output_type": "stream",
     "text": [
      "Requirement already satisfied: cookiecutter in c:\\users\\aashi\\anaconda3\\lib\\site-packages (1.7.3)\n",
      "Requirement already satisfied: binaryornot>=0.4.4 in c:\\users\\aashi\\anaconda3\\lib\\site-packages (from cookiecutter) (0.4.4)\n",
      "Requirement already satisfied: Jinja2<4.0.0,>=2.7 in c:\\users\\aashi\\anaconda3\\lib\\site-packages (from cookiecutter) (3.1.2)\n",
      "Requirement already satisfied: click>=7.0 in c:\\users\\aashi\\anaconda3\\lib\\site-packages (from cookiecutter) (8.0.4)\n",
      "Requirement already satisfied: poyo>=0.5.0 in c:\\users\\aashi\\anaconda3\\lib\\site-packages (from cookiecutter) (0.5.0)\n",
      "Requirement already satisfied: jinja2-time>=0.2.0 in c:\\users\\aashi\\anaconda3\\lib\\site-packages (from cookiecutter) (0.2.0)\n",
      "Requirement already satisfied: python-slugify>=4.0.0 in c:\\users\\aashi\\anaconda3\\lib\\site-packages (from cookiecutter) (5.0.2)\n",
      "Requirement already satisfied: requests>=2.23.0 in c:\\users\\aashi\\anaconda3\\lib\\site-packages (from cookiecutter) (2.31.0)\n",
      "Requirement already satisfied: six>=1.10 in c:\\users\\aashi\\anaconda3\\lib\\site-packages (from cookiecutter) (1.16.0)\n",
      "Requirement already satisfied: chardet>=3.0.2 in c:\\users\\aashi\\anaconda3\\lib\\site-packages (from binaryornot>=0.4.4->cookiecutter) (4.0.0)\n",
      "Requirement already satisfied: colorama in c:\\users\\aashi\\anaconda3\\lib\\site-packages (from click>=7.0->cookiecutter) (0.4.6)\n",
      "Requirement already satisfied: MarkupSafe>=2.0 in c:\\users\\aashi\\anaconda3\\lib\\site-packages (from Jinja2<4.0.0,>=2.7->cookiecutter) (2.1.1)\n",
      "Requirement already satisfied: arrow in c:\\users\\aashi\\anaconda3\\lib\\site-packages (from jinja2-time>=0.2.0->cookiecutter) (1.2.3)\n",
      "Requirement already satisfied: text-unidecode>=1.3 in c:\\users\\aashi\\anaconda3\\lib\\site-packages (from python-slugify>=4.0.0->cookiecutter) (1.3)\n",
      "Requirement already satisfied: charset-normalizer<4,>=2 in c:\\users\\aashi\\anaconda3\\lib\\site-packages (from requests>=2.23.0->cookiecutter) (2.0.4)\n",
      "Requirement already satisfied: idna<4,>=2.5 in c:\\users\\aashi\\anaconda3\\lib\\site-packages (from requests>=2.23.0->cookiecutter) (3.4)\n",
      "Requirement already satisfied: urllib3<3,>=1.21.1 in c:\\users\\aashi\\anaconda3\\lib\\site-packages (from requests>=2.23.0->cookiecutter) (1.26.16)\n",
      "Requirement already satisfied: certifi>=2017.4.17 in c:\\users\\aashi\\anaconda3\\lib\\site-packages (from requests>=2.23.0->cookiecutter) (2023.7.22)\n",
      "Requirement already satisfied: python-dateutil>=2.7.0 in c:\\users\\aashi\\anaconda3\\lib\\site-packages (from arrow->jinja2-time>=0.2.0->cookiecutter) (2.8.2)\n",
      "Note: you may need to restart the kernel to use updated packages.\n"
     ]
    }
   ],
   "source": [
    "pip install cookiecutter"
   ]
  },
  {
   "cell_type": "code",
   "execution_count": null,
   "id": "fe39fe79",
   "metadata": {},
   "outputs": [],
   "source": []
  }
 ],
 "metadata": {
  "kernelspec": {
   "display_name": "Python 3 (ipykernel)",
   "language": "python",
   "name": "python3"
  },
  "language_info": {
   "codemirror_mode": {
    "name": "ipython",
    "version": 3
   },
   "file_extension": ".py",
   "mimetype": "text/x-python",
   "name": "python",
   "nbconvert_exporter": "python",
   "pygments_lexer": "ipython3",
   "version": "3.11.4"
  }
 },
 "nbformat": 4,
 "nbformat_minor": 5
}
